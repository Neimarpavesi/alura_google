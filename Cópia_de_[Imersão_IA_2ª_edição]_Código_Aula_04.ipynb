{
  "cells": [
    {
      "cell_type": "markdown",
      "metadata": {
        "id": "view-in-github",
        "colab_type": "text"
      },
      "source": [
        "<a href=\"https://colab.research.google.com/github/Neimarpavesi/alura_google/blob/main/C%C3%B3pia_de_%5BImers%C3%A3o_IA_2%C2%AA_edi%C3%A7%C3%A3o%5D_C%C3%B3digo_Aula_04.ipynb\" target=\"_parent\"><img src=\"https://colab.research.google.com/assets/colab-badge.svg\" alt=\"Open In Colab\"/></a>"
      ]
    },
    {
      "cell_type": "code",
      "execution_count": 2,
      "metadata": {
        "id": "nFQLKQ6hfXch"
      },
      "outputs": [],
      "source": [
        "#Instalando o SDK do Google\n",
        "!pip install -q -U google-generativeai"
      ]
    },
    {
      "cell_type": "code",
      "execution_count": 5,
      "metadata": {
        "id": "IthzwfnAfcsi"
      },
      "outputs": [],
      "source": [
        "#Configurações iniciais\n",
        "import google.generativeai as genai\n",
        "from google.colab import userdata\n",
        "\n",
        "GOOGLE_API_KEY = userdata.get('secretName')\n",
        "genai.configure(api_key=GOOGLE_API_KEY)"
      ]
    },
    {
      "cell_type": "code",
      "execution_count": 6,
      "metadata": {
        "id": "O1ochaeyDn_o"
      },
      "outputs": [],
      "source": [
        "generation_config = {\n",
        "  \"candidate_count\": 1,\n",
        "  \"temperature\": 1, #para ser mais criativo nas respota do prato\n",
        "}"
      ]
    },
    {
      "cell_type": "code",
      "execution_count": 8,
      "metadata": {
        "id": "jwBv7DofDofw"
      },
      "outputs": [],
      "source": [
        "# Colocado dessa forma pois caso contrário não aceita de forma diferente\n",
        "# Na aula estava aceitando somente BLOCK_NONE, - a Studio AI gerou o codigo abaixo\n",
        "# Na aula não tinha bloqueio de segurança, para esse projeto acretito que seja importante.\n",
        "\n",
        "\n",
        "safety_settings = [\n",
        "  {\n",
        "    \"category\": \"HARM_CATEGORY_HARASSMENT\",\n",
        "    \"threshold\": \"BLOCK_MEDIUM_AND_ABOVE\"\n",
        "  },\n",
        "  {\n",
        "    \"category\": \"HARM_CATEGORY_HATE_SPEECH\",\n",
        "    \"threshold\": \"BLOCK_MEDIUM_AND_ABOVE\"\n",
        "  },\n",
        "  {\n",
        "    \"category\": \"HARM_CATEGORY_SEXUALLY_EXPLICIT\",\n",
        "    \"threshold\": \"BLOCK_MEDIUM_AND_ABOVE\"\n",
        "  },\n",
        "  {\n",
        "    \"category\": \"HARM_CATEGORY_DANGEROUS_CONTENT\",\n",
        "    \"threshold\": \"BLOCK_MEDIUM_AND_ABOVE\"\n",
        "  },\n",
        "]"
      ]
    },
    {
      "cell_type": "code",
      "execution_count": 9,
      "metadata": {
        "id": "NIiSs1R5mVJE"
      },
      "outputs": [],
      "source": [
        "model = genai.GenerativeModel(model_name='gemini-1.0-pro',\n",
        "                                  generation_config=generation_config,\n",
        "                                  safety_settings=safety_settings)"
      ]
    },
    {
      "cell_type": "code",
      "execution_count": null,
      "metadata": {
        "id": "KpaQ6hm5f2_J"
      },
      "outputs": [],
      "source": [
        "chat = model.start_chat(history=[])\n",
        "#na variável system isntructions vamos criar um ambiente bem específico para gerar uma esperiência única\n",
        "System_Instructions = \"Apresente uma refeição completa, pode ser café da manhã, almoço, janta, ou até mesmo café da tarde. Pratos composto por, de doce ou salgado conforme o texto a seguir. Observação Incluir uma história do porque escolheu a receita. O prato deve supreender, deve-se baseado na história apresentada a seguir.\"\n",
        "prompt = input(\"Olá!\\nMeu nome é nAI.\\nEstou aqui para te ajudar a escolher o melhor prato da sua vida!!!¨*¨.\\nPara isso me fale algo sobre você, use a criatividade  :) \\npode ser um poema, uma história ou como voce está,\\nvamos lá se divertir nessa nova experiência :)\\n\")\n",
        "while prompt != \"fim\":\n",
        "  PESQUISA = f\"{System_Instructions}{prompt}\"\n",
        "  response = chat.send_message(PESQUISA)\n",
        "  #texto_formatado = textwrap.fill(response.text, width=256)\n",
        "  print(\"Resposta:\\n\\n\\n\", response.text, '\\n\\n')\n",
        "  print(\"---------------------------------------\")\n",
        "  prompt = input('Bora para outro prato?\\nOu para sair digite \"fim\"\\n')\n"
      ]
    }
  ],
  "metadata": {
    "colab": {
      "provenance": [],
      "include_colab_link": true
    },
    "kernelspec": {
      "display_name": "Python 3",
      "name": "python3"
    },
    "language_info": {
      "name": "python"
    }
  },
  "nbformat": 4,
  "nbformat_minor": 0
}